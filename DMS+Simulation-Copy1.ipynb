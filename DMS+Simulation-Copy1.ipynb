{
 "cells": [
  {
   "cell_type": "markdown",
   "metadata": {
    "collapsed": true
   },
   "source": [
    "# 载入包"
   ]
  },
  {
   "cell_type": "code",
   "execution_count": 19,
   "metadata": {
    "collapsed": true
   },
   "outputs": [],
   "source": [
    "import numpy as np\n",
    "import matplotlib.pyplot as plt\n",
    "import seaborn as sns\n",
    "from PIL import Image\n",
    "from dmd_api import *   #dmd_api 函数\n",
    "import nidaqmx\n",
    "import time\n",
    "import pickle\n",
    "\n",
    "%matplotlib inline\n",
    "\n",
    "pi = np.pi"
   ]
  },
  {
   "cell_type": "markdown",
   "metadata": {},
   "source": [
    "# 产生特定的光栅图案 def grate()\n",
    "-  输入参数：\n",
    "    - 条纹和y轴夹角：theta\n",
    "    - 狭缝宽度：a. 当a=1时，狭缝宽度等于周期一半\n",
    "    - 周期d(pixel)。DMD中单位像素长度是10.8um\n",
    "    - 相位phase。 指定初始相位。\n",
    "    - 是否显示图像 show. 默认show=True.\n",
    "    - 产生方法method。 有\"direct\"和\"random\"两种方法\n",
    "    > 注：768是行数，1024是列数\n",
    "\n",
    "- 输出\n",
    "    - 图案矩阵grate:1024*768"
   ]
  },
  {
   "cell_type": "code",
   "execution_count": 2,
   "metadata": {},
   "outputs": [
    {
     "data": {
      "text/plain": [
       "array([[1, 1, 1, ..., 1, 1, 1],\n",
       "       [1, 1, 1, ..., 1, 1, 0],\n",
       "       [1, 1, 1, ..., 1, 0, 0],\n",
       "       ..., \n",
       "       [1, 1, 1, ..., 1, 1, 1],\n",
       "       [1, 1, 1, ..., 1, 1, 1],\n",
       "       [1, 1, 1, ..., 1, 1, 1]])"
      ]
     },
     "execution_count": 2,
     "metadata": {},
     "output_type": "execute_result"
    },
    {
     "data": {
      "image/png": "[encoded data removed]",
      "text/plain": [
       "<matplotlib.figure.Figure at 0x468efb0>"
      ]
     },
     "metadata": {},
     "output_type": "display_data"
    }
   ],
   "source": [
    "def randomize(phase, threshold):\n",
    "    '''\n",
    "    随机化方法得到光栅图案\n",
    "    '''\n",
    "    m = phase.shape[0]\n",
    "    n = phase.shape[1]\n",
    "    C = 5\n",
    "    #TO DO\n",
    "    #随机化方法中的参数C需要根据threshold来调以得到最佳的光栅效果,目前算法不是最佳的\n",
    "    prob = 1.0 / (1 + np.exp(-1 * C * (phase - threshold)/(1 - threshold))) \n",
    "    gamble = np.random.rand(m, n)\n",
    "    state = np.array((gamble < prob) * 1)\n",
    "    return state\n",
    "\n",
    "def grate(theta, a, d=32, phase=0, show=True, method=\"random\"):\n",
    "    width, height = 1024, 768\n",
    "    x = np.array(range(width))\n",
    "    y = np.array(range(height))\n",
    "    xx, yy = np.meshgrid(x,y)\n",
    "    threshold = np.cos(a * pi / 2) * np.ones(np.shape(xx))\n",
    "    phase = np.cos(2 * pi / d * (np.cos(theta) * xx + np.sin(theta) * yy) + phase)\n",
    "    if method == \"random\":\n",
    "        grate = randomize(phase, threshold)\n",
    "    elif method == \"direct\":\n",
    "        grate = np.array((phase >= threshold) * 1)\n",
    "    if show:\n",
    "        plt.imshow(grate)\n",
    "        plt.grid(False)\n",
    "    return grate\n",
    "    \n",
    "grate(theta=pi/4, a=1,d=16, method=\"direct\")   \n"
   ]
  },
  {
   "cell_type": "markdown",
   "metadata": {},
   "source": [
    "# 选取部分DMD区域def select()\n",
    "- 输入参数\n",
    "    - 目标区域 area=((row_start, row_end, column_start, column_end),(),...),起始行列包含start和end，从0开始计数\n",
    "    - 单个区域注意要这样写：area=((1,2,1,2),)这是单元组的特殊之处，不能写area=((1,2,1,2))\n",
    "    - 分辨率 resolution。默认是768*1024\n",
    "- 输出\n",
    "    - 矩阵target，选中区域值为1，其他区域值为0."
   ]
  },
  {
   "cell_type": "code",
   "execution_count": 3,
   "metadata": {},
   "outputs": [
    {
     "data": {
      "text/plain": [
       "array([[0, 0, 0, ..., 0, 0, 0],\n",
       "       [0, 1, 1, ..., 0, 0, 0],\n",
       "       [0, 1, 1, ..., 0, 0, 0],\n",
       "       ..., \n",
       "       [0, 0, 0, ..., 0, 0, 0],\n",
       "       [0, 0, 0, ..., 0, 0, 0],\n",
       "       [0, 0, 0, ..., 0, 0, 0]])"
      ]
     },
     "execution_count": 3,
     "metadata": {},
     "output_type": "execute_result"
    }
   ],
   "source": [
    "def select(area, resolution=(768, 1024)):\n",
    "    target = np.zeros(resolution, dtype=int)\n",
    "    for item in area:\n",
    "        row_start, row_end, column_start, column_end = item[0], item[1], item[2],item[3]\n",
    "        target[row_start : row_end + 1, column_start: column_end + 1] = 1\n",
    "    return target\n",
    "\n",
    "select(area=((1,2,1,2),(5,6,5,6)))\n",
    "select(area=((1,2,1,2), ))"
   ]
  },
  {
   "cell_type": "markdown",
   "metadata": {},
   "source": [
    "# 产生各种特殊图案\n",
    "## 全白white()\n",
    "## 全黑black()\n",
    "## 棋盘checkboard(size)\n",
    "- ...\n"
   ]
  },
  {
   "cell_type": "code",
   "execution_count": 4,
   "metadata": {},
   "outputs": [
    {
     "data": {
      "text/plain": [
       "array([[1, 1, 1, ..., 0, 0, 0],\n",
       "       [1, 1, 1, ..., 0, 0, 0],\n",
       "       [1, 1, 1, ..., 0, 0, 0],\n",
       "       ..., \n",
       "       [0, 0, 0, ..., 1, 1, 1],\n",
       "       [0, 0, 0, ..., 1, 1, 1],\n",
       "       [0, 0, 0, ..., 1, 1, 1]])"
      ]
     },
     "execution_count": 4,
     "metadata": {},
     "output_type": "execute_result"
    },
    {
     "data": {
      "image/png": "[encoded data removed]",
      "text/plain": [
       "<matplotlib.figure.Figure at 0xa83f550>"
      ]
     },
     "metadata": {},
     "output_type": "display_data"
    }
   ],
   "source": [
    "def white(resolution=(768, 1024), show=True):\n",
    "    '''\n",
    "    全白图案\n",
    "    '''\n",
    "    pattern = np.zeros(resolution)\n",
    "    if show:\n",
    "        plt.grid(False)\n",
    "        plt.imshow(pattern)\n",
    "    return pattern\n",
    "\n",
    "def black(resolution=(768, 1024), show=True):\n",
    "    '''\n",
    "    全黑图案\n",
    "    '''\n",
    "    pattern = np.zeros(resolution)\n",
    "    if show:\n",
    "        plt.grid(False)\n",
    "        plt.imshow(pattern)\n",
    "    return pattern\n",
    "\n",
    "def checkboard(size=32, resolution=(768, 1024), show=True):\n",
    "    '''\n",
    "    输入：\n",
    "    size：每个格子包含像素\n",
    "    resolution：分辨率，默认768*1024\n",
    "    show：是否显示图案，默认显示\n",
    "    \n",
    "    返回：\n",
    "    图案矩阵\n",
    "    '''\n",
    "    pattern = np.zeros(resolution)\n",
    "    pattern = np.array([1 if (int(x/size)+int(y/size))%2==0 else 0 for x in range(resolution[0])\n",
    "              for y in range(resolution[1])]).reshape(resolution)\n",
    "    \n",
    "    if show==True:\n",
    "        plt.grid(False)\n",
    "        plt.imshow(pattern)\n",
    "    return pattern\n",
    "\n",
    "##   Demo \n",
    "checkboard(32)\n",
    "#white()\n",
    "#black()"
   ]
  },
  {
   "cell_type": "markdown",
   "metadata": {},
   "source": [
    "# 保存图像 def save_pattern(pattern, filename, mode, show)\n",
    "- 输入\n",
    "    - pattern: 图像矩阵\n",
    "    - filename: 图像名称，默认保存在img文件夹中\n",
    "    - mode: 保存格式，有灰度图\"grey\"和二值图\"binary\"可选\n",
    "    - show: 是否显示图案\n",
    "- 输出\n",
    "    - 显示图像"
   ]
  },
  {
   "cell_type": "code",
   "execution_count": 5,
   "metadata": {
    "collapsed": true
   },
   "outputs": [],
   "source": [
    "def save_pattern(pattern, filename, mode=\"I\", show=True):\n",
    "    from PIL import Image\n",
    "    im = Image.fromarray(255 * pattern, mode=mode).convert('RGB')\n",
    "    im.save(\"C:/DMD_img/\" + filename)\n",
    "    if show:\n",
    "        im = Image.open(\"C:/DMD_img/\" + filename)\n",
    "        im.show()\n",
    "    \n",
    "# Demo\n",
    "pattern = grate(theta=pi/4, a=1, d=8,phase=0, show=False)\n",
    "save_pattern(pattern, \"grate8.jpg\")"
   ]
  },
  {
   "cell_type": "markdown",
   "metadata": {},
   "source": [
    "# 获取PMT计数 getCounts(t)\n",
    "- 输入\n",
    "    - t(s): PMT积分时间。370ms 约采集1000个点\n",
    "- 输出\n",
    "    - counts： 计数\n"
   ]
  },
  {
   "cell_type": "code",
   "execution_count": 6,
   "metadata": {
    "collapsed": true
   },
   "outputs": [],
   "source": [
    "def getCounts(t=0.1):\n",
    "    '''\n",
    "    get counts in time duration t\n",
    "    '''\n",
    "    DAQ_counter = nidaqmx.Task()\n",
    "    DAQ_counter.ci_channels.add_ci_count_edges_chan(b\"Dev1/ctr2\")\n",
    "    N = int(1000.0 * t / 0.37)\n",
    "    data = DAQ_counter.read(N)\n",
    "    counts = data[-1] - data[0]\n",
    "    return counts"
   ]
  },
  {
   "cell_type": "code",
   "execution_count": 21,
   "metadata": {},
   "outputs": [
    {
     "data": {
      "text/plain": [
       "1300.0"
      ]
     },
     "execution_count": 21,
     "metadata": {},
     "output_type": "execute_result"
    }
   ],
   "source": [
    "float(getCounts())"
   ]
  },
  {
   "cell_type": "markdown",
   "metadata": {},
   "source": [
    "# 扫描相位和幅度 scan_patch()\n",
    "- 输入\n",
    "    - total_area: 光斑照射在DMD上总的像素区域 e.g total_area = (200, 500, 350, 650)\n",
    "    - patch_size: patch的尺寸。 e.g patch_size = {\"patch_row\":50, \"patch_col\": 50}\n",
    "- 输出\n",
    "    - data: 包含sample_patch的行、列、附加相位、对应PMT计数\n"
   ]
  },
  {
   "cell_type": "code",
   "execution_count": 45,
   "metadata": {},
   "outputs": [
    {
     "ename": "IOError",
     "evalue": "[Errno 2] No such file or directory: './counts/count-20202017-10-04-11-05.pkl'",
     "output_type": "error",
     "traceback": [
      "\u001b[1;31m---------------------------------------------------------------------------\u001b[0m",
      "\u001b[1;31mIOError\u001b[0m                                   Traceback (most recent call last)",
      "\u001b[1;32m<ipython-input-45-5d5af353b9e6>\u001b[0m in \u001b[0;36m<module>\u001b[1;34m()\u001b[0m\n\u001b[0;32m     52\u001b[0m \u001b[0mcount\u001b[0m \u001b[1;33m=\u001b[0m \u001b[0mscan_patch\u001b[0m\u001b[1;33m(\u001b[0m\u001b[0mtotal_area\u001b[0m\u001b[1;33m=\u001b[0m\u001b[0mtotal_area\u001b[0m\u001b[1;33m,\u001b[0m \u001b[0mpatch_size\u001b[0m\u001b[1;33m=\u001b[0m\u001b[0mpatch_size\u001b[0m\u001b[1;33m)\u001b[0m\u001b[1;33m\u001b[0m\u001b[0m\n\u001b[0;32m     53\u001b[0m \u001b[0mfilename\u001b[0m \u001b[1;33m=\u001b[0m \u001b[1;34m\"count-\"\u001b[0m \u001b[1;33m+\u001b[0m \u001b[0mstr\u001b[0m\u001b[1;33m(\u001b[0m\u001b[0mpatch_size\u001b[0m\u001b[1;33m[\u001b[0m\u001b[1;34m\"patch_row\"\u001b[0m\u001b[1;33m]\u001b[0m\u001b[1;33m)\u001b[0m \u001b[1;33m+\u001b[0m \u001b[0mstr\u001b[0m\u001b[1;33m(\u001b[0m\u001b[0mpatch_size\u001b[0m\u001b[1;33m[\u001b[0m\u001b[1;34m\"patch_row\"\u001b[0m\u001b[1;33m]\u001b[0m\u001b[1;33m)\u001b[0m \u001b[1;33m+\u001b[0m             \u001b[0mtime\u001b[0m\u001b[1;33m.\u001b[0m\u001b[0mstrftime\u001b[0m\u001b[1;33m(\u001b[0m\u001b[1;34m\"%Y-%m-%d-%H-%M\"\u001b[0m\u001b[1;33m,\u001b[0m \u001b[0mtime\u001b[0m\u001b[1;33m.\u001b[0m\u001b[0mlocaltime\u001b[0m\u001b[1;33m(\u001b[0m\u001b[1;33m)\u001b[0m\u001b[1;33m)\u001b[0m \u001b[1;33m+\u001b[0m \u001b[1;34m\".pkl\"\u001b[0m\u001b[1;33m\u001b[0m\u001b[0m\n\u001b[1;32m---> 54\u001b[1;33m \u001b[1;32mwith\u001b[0m \u001b[0mopen\u001b[0m\u001b[1;33m(\u001b[0m\u001b[1;34m\"./counts/\"\u001b[0m\u001b[1;33m+\u001b[0m\u001b[0mfilename\u001b[0m\u001b[1;33m,\u001b[0m \u001b[1;34m\"wb\"\u001b[0m\u001b[1;33m)\u001b[0m \u001b[1;32mas\u001b[0m \u001b[0mf\u001b[0m\u001b[1;33m:\u001b[0m\u001b[1;33m\u001b[0m\u001b[0m\n\u001b[0m\u001b[0;32m     55\u001b[0m     \u001b[0mpickle\u001b[0m\u001b[1;33m.\u001b[0m\u001b[0mdump\u001b[0m\u001b[1;33m(\u001b[0m\u001b[0mcount\u001b[0m\u001b[1;33m,\u001b[0m \u001b[0mf\u001b[0m\u001b[1;33m)\u001b[0m\u001b[1;33m\u001b[0m\u001b[0m\n\u001b[0;32m     56\u001b[0m \u001b[1;33m\u001b[0m\u001b[0m\n",
      "\u001b[1;31mIOError\u001b[0m: [Errno 2] No such file or directory: './counts/count-20202017-10-04-11-05.pkl'"
     ]
    }
   ],
   "source": [
    "from pprint import pprint\n",
    "def scan_patch(total_area, patch_size):\n",
    "    patch_row, patch_col = patch_size[\"patch_row\"], patch_size[\"patch_col\"]\n",
    "    #标准化的区域，第一个像素坐标是(0, 0)\n",
    "    normal_area = (0, total_area[1]-total_area[0], 0, total_area[3]-total_area[2]) \n",
    "    # patch_size必须要被整除\n",
    "    if normal_area[1] % patch_size[\"patch_row\"]!=0:\n",
    "        print \"patch_row必须要被整除,请重新选定patch_row大小\"\n",
    "        return \n",
    "    if normal_area[3] % patch_size[\"patch_col\"]!=0:\n",
    "        print \"patch_row必须要被整除,请重新选定patch_row大小\"\n",
    "        return\n",
    "    \n",
    "    rblock = int(normal_area[1] / patch_row)\n",
    "    cblock = int(normal_area[3] / patch_col)\n",
    "    \n",
    "    ref_patch = (total_area[0], total_area[0] + patch_row,\n",
    "                 total_area[2], total_area[2] + patch_col)\n",
    "    ref_pattern = grate(theta=pi/4, a=1.2, d=8,phase=0, show=False) * select((ref_patch,))\n",
    "    \n",
    "    extra_phase = [0, 2 * pi/3, 4 * pi/3]\n",
    "    count = np.zeros((rblock, cblock, len(extra_phase)))\n",
    "    \n",
    "    for r in range(0,rblock):\n",
    "        for c in range(0,cblock):\n",
    "            if c==0 and r == 0:\n",
    "                continue\n",
    "            \n",
    "            sam_patch = (total_area[0] + r * patch_row, total_area[0] + (r + 1) * patch_row,\n",
    "                         total_area[2] + c * patch_col, total_area[2] + (c + 1) * patch_col)\n",
    "            i = 0\n",
    "            for phase in extra_phase:\n",
    "                sam_pattern = grate(theta=pi/4, a=1.2, d=8, phase=phase, show=False) * select((sam_patch,))\n",
    "                pattern = ref_pattern + sam_pattern\n",
    "                '''\n",
    "                下面这行代码测试时注释，运行时不要注释\n",
    "                '''\n",
    "                img_name = \"pattern_row{0}_col{1}.jpg\".format(r, c)\n",
    "                save_pattern(pattern, img_name, show=False)\n",
    "                \n",
    "                if Demo(img_name)!= 0:\n",
    "                    print \"没有正常加载图像\"\n",
    "                    return  \n",
    "                \n",
    "                count[r][c][i] = float(getCounts())\n",
    "                i += 1 \n",
    "                \n",
    "    return count\n",
    "\n",
    "patch_size = {\"patch_row\":20, \"patch_col\": 20}\n",
    "total_area = (200, 500, 350, 650)\n",
    "count = scan_patch(total_area=total_area, patch_size=patch_size)  \n",
    "filename = \"count-\" + str(patch_size[\"patch_row\"]) + str(patch_size[\"patch_row\"]) + \\\n",
    "            time.strftime(\"%Y-%m-%d-%H-%M\", time.localtime()) + \".pkl\"\n",
    "with open(\"./counts/\"+filename, \"wb\") as f:\n",
    "    pickle.dump(count, f)\n",
    "\n",
    "print count"
   ]
  },
  {
   "cell_type": "markdown",
   "metadata": {},
   "source": [
    "# 计算相位和幅度 caculate_phase_amp(data)\n",
    "- 输入\n",
    "    - data: 格式如scan_patch的输出\n",
    "- 输出\n",
    "    - amplitude_mat\n",
    "    - phase_mat"
   ]
  },
  {
   "cell_type": "code",
   "execution_count": 24,
   "metadata": {},
   "outputs": [
    {
     "data": {
      "text/plain": [
       "array([[ 3.14159265,  2.55437224,  0.1454346 , -1.22974958, -0.87814001,\n",
       "         0.09404139],\n",
       "       [-2.12634089,  1.36326494, -0.2133723 , -0.77268502, -0.52359878,\n",
       "         0.29438633],\n",
       "       [ 2.72489337,  0.7540166 , -0.42023404, -0.85364555,  0.33020516,\n",
       "         1.66691333],\n",
       "       [ 1.62083083,  0.10683645, -0.61884251,  0.37227669,  1.36211007,\n",
       "         2.88293194],\n",
       "       [ 0.79370864, -0.1446854 ,  0.22070416,  1.56932724,  1.94639273,\n",
       "        -1.7921762 ],\n",
       "       [-0.32939778,  2.46005141,  1.78490695,  2.65505444, -0.70089508,\n",
       "         1.35955129]])"
      ]
     },
     "execution_count": 24,
     "metadata": {},
     "output_type": "execute_result"
    }
   ],
   "source": [
    "def calculate_phase_amp(data):\n",
    "    import cmath\n",
    "    row, col, _ = data.shape\n",
    "    amplitude_mat = np.zeros((row, col))\n",
    "    phase_mat = np.zeros((row, col))\n",
    "    for r in range(row):\n",
    "        for c in range(col):\n",
    "            [m1, m2, m3] = data[r][c][:]\n",
    "            p = complex(-1.0/3 * (m2 + m3 - 2 * m1), 1.0/np.sqrt(3) *(m2 - m3))\n",
    "            amplitude_mat[r][c], phase_mat[r][c] = cmath.polar(p)\n",
    "    return amplitude_mat, phase_mat\n",
    "amplitude_mat, phase_mat = calculate_phase_amp(count)\n",
    "phase_mat"
   ]
  },
  {
   "cell_type": "markdown",
   "metadata": {},
   "source": [
    "# 绘制相位和幅度图\n",
    "## phase_diagram()\n",
    "- 输入\n",
    "    - result\n",
    "- 无输出\n",
    "\n",
    "## amp_diagram()\n",
    "- 输入\n",
    "    - result\n",
    "- 无输出\n"
   ]
  },
  {
   "cell_type": "code",
   "execution_count": 25,
   "metadata": {},
   "outputs": [
    {
     "data": {
      "image/png": "[encoded data removed]",
      "text/plain": [
       "<matplotlib.figure.Figure at 0xa9de170>"
      ]
     },
     "metadata": {},
     "output_type": "display_data"
    }
   ],
   "source": [
    "def amplitude_diagram(amplitude_mat, save=False, filename=0):\n",
    "    row, col = amplitude_mat.shape\n",
    "    X,Y = np.meshgrid(row,col)\n",
    "    plt.imshow(amplitude_mat, cmap=\"jet\")\n",
    "    plt.title(\"Amplitude\")\n",
    "    plt.grid(False)\n",
    "    plt.colorbar()\n",
    "    if filename==0:\n",
    "        filename = \"amp-\"+time.strftime(\"%Y-%m-%d-%H-%M\", time.localtime())+\".jpg\"\n",
    "    plt.savefig(\"./amplitude_image/\"+filename)\n",
    "    plt.show() #不能先show再savefig， 否则图片会变成一片空白\n",
    "\n",
    "# example code    \n",
    "amplitude_diagram(amplitude_mat, save=False, filename=0)"
   ]
  },
  {
   "cell_type": "code",
   "execution_count": 26,
   "metadata": {},
   "outputs": [
    {
     "data": {
      "image/png": "[encoded data removed]",
      "text/plain": [
       "<matplotlib.figure.Figure at 0xade3f30>"
      ]
     },
     "metadata": {},
     "output_type": "display_data"
    }
   ],
   "source": [
    "def phase_diagram(phase_mat, save=False, filename=0):\n",
    "    row, col = phase_mat.shape\n",
    "    X,Y = np.meshgrid(row,col)\n",
    "    plt.imshow(phase_mat, cmap=\"jet\")\n",
    "    plt.title(\"Phase\")\n",
    "    plt.grid(False)\n",
    "    plt.colorbar()\n",
    "    if filename==0:\n",
    "        filename = \"phase-\"+time.strftime(\"%Y-%m-%d-%H-%M\", time.localtime())+\".jpg\"\n",
    "    plt.savefig(\"./phase_image/\"+filename)\n",
    "    plt.show()\n",
    "\n",
    "# example code\n",
    "phase_diagram(phase_mat, save=False, filename=0)"
   ]
  },
  {
   "cell_type": "code",
   "execution_count": 44,
   "metadata": {},
   "outputs": [
    {
     "data": {
      "text/plain": [
       "<matplotlib.colorbar.Colorbar at 0xade1df0>"
      ]
     },
     "execution_count": 44,
     "metadata": {},
     "output_type": "execute_result"
    },
    {
     "data": {
      "image/png": "[encoded data removed]",
      "text/plain": [
       "<matplotlib.figure.Figure at 0xaadd650>"
      ]
     },
     "metadata": {},
     "output_type": "display_data"
    }
   ],
   "source": [
    "# -*- coding:utf-8 -*-\n",
    "def interf_diagram(mat, title):\n",
    "    '''\n",
    "    画出三个干涉图\n",
    "    '''\n",
    "    row, col= mat.shape\n",
    "    X,Y = np.meshgrid(row,col)\n",
    "    plt.savefig(\"./tmp/\"+title+\".jpg\")\n",
    "    plt.imshow(mat, cmap=\"jet\")\n",
    "    plt.title(title)\n",
    "    plt.grid(False)\n",
    "#     plt.colorbar()\n",
    "\n",
    "plt.subplot(1,3,1)    \n",
    "mat = count[:, :, 0]\n",
    "interf_diagram(mat, \"intf(phase=0)\" )\n",
    "\n",
    "plt.subplot(1,3,2)    \n",
    "mat = count[:, :, 1]    \n",
    "interf_diagram(mat, \"intf(phase=2pi-3)\" )\n",
    "plt.subplot(1,3,3)    \n",
    "mat = count[:, :, 2]    \n",
    "interf_diagram(mat, \"intf(phase=4pi-3)\" )\n",
    "plt.colorbar()"
   ]
  },
  {
   "cell_type": "code",
   "execution_count": 14,
   "metadata": {},
   "outputs": [
    {
     "name": "stdout",
     "output_type": "stream",
     "text": [
      "[[[ 0.54340494  0.27836939]\n",
      "  [ 0.42451759  0.84477613]\n",
      "  [ 0.00471886  0.12156912]]\n",
      "\n",
      " [[ 0.67074908  0.82585276]\n",
      "  [ 0.13670659  0.57509333]\n",
      "  [ 0.89132195  0.20920212]]\n",
      "\n",
      " [[ 0.18532822  0.10837689]\n",
      "  [ 0.21969749  0.97862378]\n",
      "  [ 0.81168315  0.17194101]]]\n",
      "[[ 0.54340494  0.42451759  0.00471886]\n",
      " [ 0.67074908  0.13670659  0.89132195]\n",
      " [ 0.18532822  0.21969749  0.81168315]]\n"
     ]
    }
   ],
   "source": [
    "import pickle\n",
    "np.random.seed(100)\n",
    "a = np.random.rand(3,3,2)\n",
    "print a\n",
    "print a[:,:,0]"
   ]
  },
  {
   "cell_type": "markdown",
   "metadata": {},
   "source": []
  },
  {
   "cell_type": "markdown",
   "metadata": {},
   "source": [
    "# Experiemnt"
   ]
  },
  {
   "cell_type": "code",
   "execution_count": 18,
   "metadata": {
    "scrolled": true
   },
   "outputs": [
    {
     "data": {
      "text/plain": [
       "0"
      ]
     },
     "execution_count": 18,
     "metadata": {},
     "output_type": "execute_result"
    }
   ],
   "source": [
    "total_area = (200, 500, 350, 650)\n",
    "center = ((total_area[0]+total_area[1])/2, (total_area[2]+total_area[3])/2)\n",
    "patch_size = 50 \n",
    "ref_patch = (center[0]-patch_size/2, center[0]+patch_size/2, \n",
    "             center[1]-patch_size/2, center[1]+patch_size/2)\n",
    "exp_patch = (center[0]-2*patch_size-patch_size/2, center[0]-2*patch_size+patch_size/2, \n",
    "             center[1]-2*patch_size-patch_size/2, center[1]-2*patch_size+patch_size/2)\n",
    "#area2 = (475, 525, 625, 675)\n",
    "pattern_ref = grate(theta=pi/4, a=1.2, d=8,phase=0, show=False) * select((ref_patch,))\n",
    "pattern_iter =  grate(theta = pi/4, a=1.2, d=8, phase=0, show=False) * select((exp_patch,))\n",
    "pattern = pattern_ref + pattern_iter\n",
    "#area = select(((350, 650, 500, 800),))\n",
    "#pattern = grate(theta=pi/4, a=1, d=8,phase=0, show=False)\n",
    "#area_mat = select((total_area,))\n",
    "#area_mat = select((ref_patch,exp_patch))\n",
    "#area_mat = select((ref_patch,))\n",
    "#area_mat = select(((0, 768, 0, 1000),))\n",
    "# area = select((area1, area2))\n",
    "# area = select(((0,768,0,1024),))\n",
    "#pattern = pattern * area_mat\n",
    "save_pattern(pattern, \"grate_8.jpg\", show=True)\n",
    "Demo(\"grate_8.jpg\")"
   ]
  },
  {
   "cell_type": "code",
   "execution_count": 60,
   "metadata": {},
   "outputs": [
    {
     "data": {
      "text/plain": [
       "1"
      ]
     },
     "execution_count": 60,
     "metadata": {},
     "output_type": "execute_result"
    }
   ],
   "source": [
    "OpenDevice()"
   ]
  },
  {
   "cell_type": "code",
   "execution_count": 75,
   "metadata": {
    "collapsed": true
   },
   "outputs": [],
   "source": [
    "import numpy as np\n",
    "import matplotlib.pyplot as plt\n",
    "pi = np.pi\n",
    "def randomize(phase, threshold):\n",
    "    \n",
    "    m = phase.shape[0]\n",
    "    n = phase.shape[1]\n",
    "    C = 5\n",
    "    #TO DO\n",
    "    #随机化方法中的参数C需要根据threshold来调以得到最佳的光栅效果,目前算法不是最佳的\n",
    "    prob = 1.0 / (1 + np.exp(-1 * C * (phase - threshold)/(1 - threshold))) \n",
    "    gamble = np.random.rand(m, n)\n",
    "    state = (gamble < prob) * 1\n",
    "    return state\n",
    "\n",
    "width = 1024\n",
    "height = 768\n",
    "p = 32 # pixels of gating cycle\n",
    "theta = pi / 4 # theta angel\n",
    "siltsize = 1.0 #狭缝宽度，1对应着狭缝宽度等于周期一半。\n",
    "\n",
    "x = np.array(range(width))\n",
    "y = np.array(range(height))\n",
    "xx, yy = np.meshgrid(x,y)\n",
    "threshold = np.cos(siltsize * pi / 2) * np.ones(np.shape(xx)) #开启阈值，调节狭缝占空比，狭缝大小siltsize=1时，threshold=0。siltsize越小，开启阈值越小，狭缝越可能打开\n",
    "phase = np.cos(2 * pi / p * (np.cos(theta) * xx + np.sin(theta) * yy))\n",
    "\n",
    "state1 = randomize(phase, threshold)# to binary form\n",
    "#plt.subplot(1,2,1)\n",
    "#plt.imshow(state1)\n",
    "#plt.imshow(255*state1)\n",
    "# plt.xlim([0, width])\n",
    "# plt.ylim([0, height])\n",
    "# plt.grid(False)\n",
    "# plt.axis('off')\n",
    "\n",
    "state2 = (phase >= threshold) * 1   # to binary form\n",
    "#plt.subplot(1,2,2)\n",
    "#plt.imshow(state2)\n",
    "#plt.xlim([0, width])\n",
    "#plt.ylim([0, height])\n",
    "#plt.grid()\n",
    "\n",
    "im1 = Image.fromarray((state1)*255,mode=\"I\").convert('RGB')\n",
    "im_out = im1.transpose(Image.FLIP_TOP_BOTTOM)\n",
    "im_out.show()\n",
    "im_out.save(\"state1_0.jpg\")\n",
    "im1.save('./state1_0.jpg')"
   ]
  },
  {
   "cell_type": "markdown",
   "metadata": {
    "collapsed": true
   },
   "source": [
    "- DMD 像素尺寸：1024 * 768，patch尺寸：24 * 24，共有42 * 38个unit"
   ]
  },
  {
   "cell_type": "code",
   "execution_count": 83,
   "metadata": {
    "collapsed": true
   },
   "outputs": [],
   "source": [
    "import numpy as np\n",
    "from PIL import Image\n",
    "from pylab import *\n",
    "im = Image.open('love.png')\n",
    "grey_im = im.convert('L')\n",
    "grey_arr = np.array(grey_im)\n",
    "im1 = Image.fromarray(grey_arr,mode=\"L\")\n",
    "im2 = Image.fromarray(grey_arr, mode='1')\n",
    "im1.save(\"love_L.png\")\n",
    "im2.save(\"love_l.png\")"
   ]
  },
  {
   "cell_type": "code",
   "execution_count": 85,
   "metadata": {
    "collapsed": true
   },
   "outputs": [],
   "source": [
    "im2 = Image.fromarray(255*state2, mode='L')\n",
    "im2.show()"
   ]
  },
  {
   "cell_type": "code",
   "execution_count": 5,
   "metadata": {},
   "outputs": [
    {
     "ename": "NameError",
     "evalue": "global name 'p' is not defined",
     "output_type": "error",
     "traceback": [
      "\u001b[0;31m\u001b[0m",
      "\u001b[0;31mNameError\u001b[0mTraceback (most recent call last)",
      "\u001b[0;32m<ipython-input-5-15fef3ef9012>\u001b[0m in \u001b[0;36m<module>\u001b[0;34m()\u001b[0m\n\u001b[1;32m     35\u001b[0m \u001b[0mpatch\u001b[0m \u001b[0;34m=\u001b[0m \u001b[0mPatch\u001b[0m\u001b[0;34m(\u001b[0m\u001b[0;34m[\u001b[0m\u001b[0;36m1\u001b[0m\u001b[0;34m,\u001b[0m\u001b[0;36m1\u001b[0m\u001b[0;34m]\u001b[0m\u001b[0;34m,\u001b[0m \u001b[0;36m48\u001b[0m\u001b[0;34m,\u001b[0m \u001b[0;36m4\u001b[0m\u001b[0;34m,\u001b[0m \u001b[0;36m0\u001b[0m\u001b[0;34m,\u001b[0m \u001b[0;36m1\u001b[0m\u001b[0;34m,\u001b[0m \u001b[0mpi\u001b[0m\u001b[0;34m/\u001b[0m\u001b[0;36m4\u001b[0m\u001b[0;34m)\u001b[0m \u001b[0;31m#实例化\u001b[0m\u001b[0;34m\u001b[0m\u001b[0m\n\u001b[1;32m     36\u001b[0m \u001b[0mplt\u001b[0m\u001b[0;34m.\u001b[0m\u001b[0msubplot\u001b[0m\u001b[0;34m(\u001b[0m\u001b[0;36m1\u001b[0m\u001b[0;34m,\u001b[0m\u001b[0;36m3\u001b[0m\u001b[0;34m,\u001b[0m\u001b[0;36m1\u001b[0m\u001b[0;34m)\u001b[0m\u001b[0;34m\u001b[0m\u001b[0m\n\u001b[0;32m---> 37\u001b[0;31m \u001b[0mpatch\u001b[0m\u001b[0;34m.\u001b[0m\u001b[0mshow_pattern\u001b[0m\u001b[0;34m(\u001b[0m\u001b[0;34m)\u001b[0m \u001b[0;31m#show pattern\u001b[0m\u001b[0;34m\u001b[0m\u001b[0m\n\u001b[0m\u001b[1;32m     38\u001b[0m \u001b[0mplt\u001b[0m\u001b[0;34m.\u001b[0m\u001b[0mtitle\u001b[0m\u001b[0;34m(\u001b[0m\u001b[0;34m'original pattern'\u001b[0m\u001b[0;34m)\u001b[0m\u001b[0;34m\u001b[0m\u001b[0m\n\u001b[1;32m     39\u001b[0m \u001b[0;34m\u001b[0m\u001b[0m\n",
      "\u001b[0;32m<ipython-input-5-15fef3ef9012>\u001b[0m in \u001b[0;36mshow_pattern\u001b[0;34m(self)\u001b[0m\n\u001b[1;32m     18\u001b[0m         \u001b[0mxx\u001b[0m\u001b[0;34m,\u001b[0m \u001b[0myy\u001b[0m \u001b[0;34m=\u001b[0m \u001b[0mnp\u001b[0m\u001b[0;34m.\u001b[0m\u001b[0mmeshgrid\u001b[0m\u001b[0;34m(\u001b[0m\u001b[0mx\u001b[0m\u001b[0;34m,\u001b[0m \u001b[0my\u001b[0m\u001b[0;34m)\u001b[0m\u001b[0;34m\u001b[0m\u001b[0m\n\u001b[1;32m     19\u001b[0m         \u001b[0mthreshold\u001b[0m \u001b[0;34m=\u001b[0m \u001b[0mnp\u001b[0m\u001b[0;34m.\u001b[0m\u001b[0mcos\u001b[0m\u001b[0;34m(\u001b[0m\u001b[0mself\u001b[0m\u001b[0;34m.\u001b[0m\u001b[0msiltsize\u001b[0m \u001b[0;34m*\u001b[0m \u001b[0mpi\u001b[0m \u001b[0;34m/\u001b[0m \u001b[0;36m2\u001b[0m\u001b[0;34m)\u001b[0m \u001b[0;34m*\u001b[0m \u001b[0mnp\u001b[0m\u001b[0;34m.\u001b[0m\u001b[0mones\u001b[0m\u001b[0;34m(\u001b[0m\u001b[0mnp\u001b[0m\u001b[0;34m.\u001b[0m\u001b[0mshape\u001b[0m\u001b[0;34m(\u001b[0m\u001b[0mxx\u001b[0m\u001b[0;34m)\u001b[0m\u001b[0;34m)\u001b[0m\u001b[0;34m\u001b[0m\u001b[0m\n\u001b[0;32m---> 20\u001b[0;31m         \u001b[0mphase\u001b[0m \u001b[0;34m=\u001b[0m \u001b[0mnp\u001b[0m\u001b[0;34m.\u001b[0m\u001b[0mcos\u001b[0m\u001b[0;34m(\u001b[0m\u001b[0;36m2\u001b[0m \u001b[0;34m*\u001b[0m \u001b[0mpi\u001b[0m \u001b[0;34m/\u001b[0m \u001b[0mp\u001b[0m \u001b[0;34m*\u001b[0m \u001b[0;34m(\u001b[0m\u001b[0mnp\u001b[0m\u001b[0;34m.\u001b[0m\u001b[0mcos\u001b[0m\u001b[0;34m(\u001b[0m\u001b[0mself\u001b[0m\u001b[0;34m.\u001b[0m\u001b[0mtheta\u001b[0m\u001b[0;34m)\u001b[0m \u001b[0;34m*\u001b[0m \u001b[0mxx\u001b[0m \u001b[0;34m+\u001b[0m \u001b[0mnp\u001b[0m\u001b[0;34m.\u001b[0m\u001b[0msin\u001b[0m\u001b[0;34m(\u001b[0m\u001b[0mself\u001b[0m\u001b[0;34m.\u001b[0m\u001b[0mtheta\u001b[0m\u001b[0;34m)\u001b[0m \u001b[0;34m*\u001b[0m \u001b[0myy\u001b[0m\u001b[0;34m)\u001b[0m\u001b[0;34m+\u001b[0m \u001b[0mself\u001b[0m\u001b[0;34m.\u001b[0m\u001b[0mdphase\u001b[0m\u001b[0;34m)\u001b[0m\u001b[0;34m\u001b[0m\u001b[0m\n\u001b[0m\u001b[1;32m     21\u001b[0m         \u001b[0;31m#state = (phase >= threshold) * 1\u001b[0m\u001b[0;34m\u001b[0m\u001b[0;34m\u001b[0m\u001b[0m\n\u001b[1;32m     22\u001b[0m         \u001b[0mstate\u001b[0m \u001b[0;34m=\u001b[0m \u001b[0mrandomize\u001b[0m\u001b[0;34m(\u001b[0m\u001b[0mphase\u001b[0m\u001b[0;34m,\u001b[0m \u001b[0mthreshold\u001b[0m\u001b[0;34m)\u001b[0m\u001b[0;34m\u001b[0m\u001b[0m\n",
      "\u001b[0;31mNameError\u001b[0m: global name 'p' is not defined"
     ]
    },
    {
     "data": {
      "image/png": "[encoded data removed]",
      "text/plain": [
       "<matplotlib.figure.Figure at 0x7fd0b8de3210>"
      ]
     },
     "metadata": {},
     "output_type": "display_data"
    }
   ],
   "source": [
    "class Patch(object):\n",
    "    '''\n",
    "    定义了一个patch类，如patch面积是24*24\n",
    "    patch属性：位置position，尺寸size，周期period，初始相位dphase，狭缝大小siltsize，光栅倾斜角theta\n",
    "    patch方法：showpattern， 改变相位， 改变狭缝大小\n",
    "    '''\n",
    "    def __init__(self, position, size, period, dphase, siltsize, theta):\n",
    "        self.position = position\n",
    "        self.size = size\n",
    "        self.period = period\n",
    "        self.dphase = dphase\n",
    "        self.siltsize = siltsize\n",
    "        self.theta = theta\n",
    "    \n",
    "    def show_pattern(self):\n",
    "        x = np.array(range(self.size))\n",
    "        y = np.array(range(self.size))\n",
    "        xx, yy = np.meshgrid(x, y)\n",
    "        threshold = np.cos(self.siltsize * pi / 2) * np.ones(np.shape(xx)) \n",
    "        phase = np.cos(2 * pi / p * (np.cos(self.theta) * xx + np.sin(self.theta) * yy)+ self.dphase)\n",
    "        #state = (phase >= threshold) * 1\n",
    "        state = randomize(phase, threshold)\n",
    "        plt.imshow(state)\n",
    "        plt.xlim([0, self.size])\n",
    "        plt.ylim([0, self.size])\n",
    "        plt.grid()\n",
    "    \n",
    "    def set_phase(self, phase):\n",
    "        self.dphase = self.dphase + phase\n",
    "        \n",
    "    def set_silt(self, ss):\n",
    "        self.siltsize = ss\n",
    "\n",
    "        \n",
    "patch = Patch([1,1], 48, 4, 0, 1, pi/4) #实例化\n",
    "plt.subplot(1,3,1)\n",
    "patch.show_pattern() #show pattern\n",
    "plt.title('original pattern')\n",
    "\n",
    "patch.set_phase(pi) #平移pi相位\n",
    "plt.subplot(1,3,2)\n",
    "patch.show_pattern()\n",
    "plt.title('phase shift pi')\n",
    "\n",
    "plt.subplot(1,3,3)\n",
    "patch.set_silt(0.5) #改变狭缝大小\n",
    "patch.show_pattern()\n",
    "plt.title('silt size are 0.5')"
   ]
  },
  {
   "cell_type": "code",
   "execution_count": 269,
   "metadata": {},
   "outputs": [
    {
     "data": {
      "text/plain": [
       "True"
      ]
     },
     "execution_count": 269,
     "metadata": {},
     "output_type": "execute_result"
    }
   ],
   "source": [
    "a = [1, 2]\n",
    "isinstance(a, list)"
   ]
  },
  {
   "cell_type": "markdown",
   "metadata": {
    "collapsed": true
   },
   "source": [
    "#  Error diffusion 算法"
   ]
  },
  {
   "cell_type": "code",
   "execution_count": 14,
   "metadata": {
    "collapsed": true
   },
   "outputs": [],
   "source": [
    "from PIL import Image\n",
    "\n",
    "def error_diffusion(pixel, size=(1,1)): \n",
    "    '''\n",
    "      Diffuse on a single channel, using Floyd-Steinberg kerenl.\n",
    "      @param pixel PIL PixelAccess object.\n",
    "      @param size A tuple to represent the size of pixel.\n",
    "      original github code: https://github.com/justmao945/lab/blob/master/halftoning/error-diffusion/ed.py\n",
    "    '''\n",
    "    for y in xrange(0, size[1]-1):\n",
    "        for x in xrange(1, size[0]-1):\n",
    "            oldpixel = pixel[x, y]\n",
    "            pixel[x, y] = 255 if oldpixel > 127 else 0\n",
    "            quant_error = oldpixel - pixel[x, y]\n",
    "            pixel[x+1, y  ] = pixel[x+1, y  ] + 7/16.0 * quant_error\n",
    "            pixel[x-1, y+1] = pixel[x-1, y+1] + 3/16.0 * quant_error\n",
    "            pixel[x,   y+1] = pixel[x,   y+1] + 5/16.0 * quant_error\n",
    "            pixel[x+1, y+1] = pixel[x+1, y+1] + 1/16.0 * quant_error\n",
    "\n",
    "im = Image.open(\"love.png\").convert('L')\n",
    "im_arr = np.array(im).T\n",
    "error_diffusion( im_arr, im.size )\n",
    "im2 = Image.fromarray(im_arr.T, mode='L')\n",
    "im.show()"
   ]
  },
  {
   "cell_type": "code",
   "execution_count": 19,
   "metadata": {},
   "outputs": [
    {
     "ename": "AttributeError",
     "evalue": "'PixelAccess' object has no attribute 'shape'",
     "output_type": "error",
     "traceback": [
      "\u001b[0;31m\u001b[0m",
      "\u001b[0;31mAttributeError\u001b[0mTraceback (most recent call last)",
      "\u001b[0;32m<ipython-input-19-4853ff948308>\u001b[0m in \u001b[0;36m<module>\u001b[0;34m()\u001b[0m\n\u001b[1;32m      1\u001b[0m \u001b[0mpixel\u001b[0m\u001b[0;34m=\u001b[0m\u001b[0mim\u001b[0m\u001b[0;34m.\u001b[0m\u001b[0mload\u001b[0m\u001b[0;34m(\u001b[0m\u001b[0;34m)\u001b[0m\u001b[0;34m\u001b[0m\u001b[0m\n\u001b[0;32m----> 2\u001b[0;31m \u001b[0mpixel\u001b[0m\u001b[0;34m.\u001b[0m\u001b[0mshape\u001b[0m\u001b[0;34m\u001b[0m\u001b[0m\n\u001b[0m\u001b[1;32m      3\u001b[0m \u001b[0;31m#im.size\u001b[0m\u001b[0;34m\u001b[0m\u001b[0;34m\u001b[0m\u001b[0m\n",
      "\u001b[0;31mAttributeError\u001b[0m: 'PixelAccess' object has no attribute 'shape'"
     ]
    }
   ],
   "source": [
    "pixel=im.load()\n",
    "pixel.shape\n",
    "#im.size"
   ]
  },
  {
   "cell_type": "code",
   "execution_count": null,
   "metadata": {
    "collapsed": true
   },
   "outputs": [],
   "source": []
  }
 ],
 "metadata": {
  "kernelspec": {
   "display_name": "Python 2",
   "language": "python",
   "name": "python2"
  },
  "language_info": {
   "codemirror_mode": {
    "name": "ipython",
    "version": 2
   },
   "file_extension": ".py",
   "mimetype": "text/x-python",
   "name": "python",
   "nbconvert_exporter": "python",
   "pygments_lexer": "ipython2",
   "version": "2.7.13"
  },
  "toc": {
   "nav_menu": {
    "height": "30px",
    "width": "251px"
   },
   "number_sections": true,
   "sideBar": true,
   "skip_h1_title": false,
   "toc_cell": false,
   "toc_position": {
    "height": "521px",
    "left": "0px",
    "right": "1024px",
    "top": "106px",
    "width": "256px"
   },
   "toc_section_display": "block",
   "toc_window_display": true
  }
 },
 "nbformat": 4,
 "nbformat_minor": 2
}
